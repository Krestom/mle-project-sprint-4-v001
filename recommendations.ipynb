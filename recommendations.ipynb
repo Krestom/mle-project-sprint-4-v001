{
 "cells": [
  {
   "cell_type": "markdown",
   "id": "f4095ae4-7294-4b28-853e-88d235002c97",
   "metadata": {},
   "source": [
    "# Инициализация"
   ]
  },
  {
   "cell_type": "markdown",
   "id": "2f2318d2-9df8-4911-915e-15b725c44f8a",
   "metadata": {},
   "source": [
    "Загружаем библиотеки необходимые для выполнения кода ноутбука."
   ]
  },
  {
   "cell_type": "code",
   "execution_count": 1,
   "id": "662d04e7-1b0b-4e4a-9ddf-4526d7fef119",
   "metadata": {},
   "outputs": [],
   "source": [
    "import pandas as pd\n",
    "import numpy as np\n",
    "import matplotlib.pyplot as plt\n",
    "import seaborn as sns\n",
    "from dotenv import load_dotenv\n",
    "\n",
    "load_dotenv()\n",
    "\n",
    "# Настройка стиля\n",
    "sns.set(style=\"whitegrid\")"
   ]
  },
  {
   "cell_type": "markdown",
   "id": "bf80fbc5-b660-4fac-8fbb-a5cae77313b3",
   "metadata": {},
   "source": [
    "# === ЭТАП 1 ==="
   ]
  },
  {
   "cell_type": "markdown",
   "id": "5263a8b3-fe99-4204-8a2e-105182792c11",
   "metadata": {},
   "source": [
    "# Загрузка первичных данных"
   ]
  },
  {
   "cell_type": "markdown",
   "id": "1b54a6a5-1656-4e3c-99d1-49dc39451d33",
   "metadata": {},
   "source": [
    "Загружаем первичные данные из файлов:\n",
    "- tracks.parquet\n",
    "- catalog_names.parquet\n",
    "- interactions.parquet"
   ]
  },
  {
   "cell_type": "code",
   "execution_count": 2,
   "id": "5d4b8961-3f35-4e58-9d6b-3e2dbd2c4224",
   "metadata": {
    "scrolled": true
   },
   "outputs": [],
   "source": [
    "# !wget https://storage.yandexcloud.net/mle-data/ym/tracks.parquet\n",
    "\n",
    "# !wget https://storage.yandexcloud.net/mle-data/ym/catalog_names.parquet\n",
    "\n",
    "# !wget https://storage.yandexcloud.net/mle-data/ym/interactions.parquet"
   ]
  },
  {
   "cell_type": "code",
   "execution_count": 3,
   "id": "70f7bdfe-175c-45c1-a2e9-d99f0f33be2e",
   "metadata": {},
   "outputs": [],
   "source": [
    "tracks = pd.read_parquet('tracks.parquet')\n",
    "catalog_names = pd.read_parquet('catalog_names.parquet')\n",
    "interactions = pd.read_parquet('interactions.parquet')"
   ]
  },
  {
   "cell_type": "markdown",
   "id": "e8f2a1f7-a05f-4f39-af90-5f4018aa6f9d",
   "metadata": {},
   "source": [
    "# Обзор данных"
   ]
  },
  {
   "cell_type": "markdown",
   "id": "46a85307-896c-4fac-9fcf-f0dffa90889e",
   "metadata": {},
   "source": [
    "Проверяем данные, есть ли с ними явные проблемы."
   ]
  },
  {
   "cell_type": "code",
   "execution_count": 4,
   "id": "c9f8f17e-9b56-4f5a-a463-f694a993effb",
   "metadata": {},
   "outputs": [
    {
     "name": "stdout",
     "output_type": "stream",
     "text": [
      "<class 'pandas.core.frame.DataFrame'>\n",
      "RangeIndex: 1000000 entries, 0 to 999999\n",
      "Data columns (total 4 columns):\n",
      " #   Column    Non-Null Count    Dtype \n",
      "---  ------    --------------    ----- \n",
      " 0   track_id  1000000 non-null  int64 \n",
      " 1   albums    1000000 non-null  object\n",
      " 2   artists   1000000 non-null  object\n",
      " 3   genres    1000000 non-null  object\n",
      "dtypes: int64(1), object(3)\n",
      "memory usage: 30.5+ MB\n"
     ]
    }
   ],
   "source": [
    "tracks.info()"
   ]
  },
  {
   "cell_type": "code",
   "execution_count": 5,
   "id": "8e26b62b-f885-4269-861c-915f3a79a9c4",
   "metadata": {},
   "outputs": [
    {
     "data": {
      "text/html": [
       "<div>\n",
       "<style scoped>\n",
       "    .dataframe tbody tr th:only-of-type {\n",
       "        vertical-align: middle;\n",
       "    }\n",
       "\n",
       "    .dataframe tbody tr th {\n",
       "        vertical-align: top;\n",
       "    }\n",
       "\n",
       "    .dataframe thead th {\n",
       "        text-align: right;\n",
       "    }\n",
       "</style>\n",
       "<table border=\"1\" class=\"dataframe\">\n",
       "  <thead>\n",
       "    <tr style=\"text-align: right;\">\n",
       "      <th></th>\n",
       "      <th>track_id</th>\n",
       "      <th>albums</th>\n",
       "      <th>artists</th>\n",
       "      <th>genres</th>\n",
       "    </tr>\n",
       "  </thead>\n",
       "  <tbody>\n",
       "    <tr>\n",
       "      <th>0</th>\n",
       "      <td>26</td>\n",
       "      <td>[3, 2490753]</td>\n",
       "      <td>[16]</td>\n",
       "      <td>[11, 21]</td>\n",
       "    </tr>\n",
       "    <tr>\n",
       "      <th>1</th>\n",
       "      <td>38</td>\n",
       "      <td>[3, 2490753]</td>\n",
       "      <td>[16]</td>\n",
       "      <td>[11, 21]</td>\n",
       "    </tr>\n",
       "    <tr>\n",
       "      <th>2</th>\n",
       "      <td>135</td>\n",
       "      <td>[12, 214, 2490809]</td>\n",
       "      <td>[84]</td>\n",
       "      <td>[11]</td>\n",
       "    </tr>\n",
       "    <tr>\n",
       "      <th>3</th>\n",
       "      <td>136</td>\n",
       "      <td>[12, 214, 2490809]</td>\n",
       "      <td>[84]</td>\n",
       "      <td>[11]</td>\n",
       "    </tr>\n",
       "    <tr>\n",
       "      <th>4</th>\n",
       "      <td>138</td>\n",
       "      <td>[12, 214, 322, 72275, 72292, 91199, 213505, 24...</td>\n",
       "      <td>[84]</td>\n",
       "      <td>[11]</td>\n",
       "    </tr>\n",
       "  </tbody>\n",
       "</table>\n",
       "</div>"
      ],
      "text/plain": [
       "   track_id                                             albums artists  \\\n",
       "0        26                                       [3, 2490753]    [16]   \n",
       "1        38                                       [3, 2490753]    [16]   \n",
       "2       135                                 [12, 214, 2490809]    [84]   \n",
       "3       136                                 [12, 214, 2490809]    [84]   \n",
       "4       138  [12, 214, 322, 72275, 72292, 91199, 213505, 24...    [84]   \n",
       "\n",
       "     genres  \n",
       "0  [11, 21]  \n",
       "1  [11, 21]  \n",
       "2      [11]  \n",
       "3      [11]  \n",
       "4      [11]  "
      ]
     },
     "execution_count": 5,
     "metadata": {},
     "output_type": "execute_result"
    }
   ],
   "source": [
    "tracks.head()"
   ]
  },
  {
   "cell_type": "code",
   "execution_count": 6,
   "id": "391b2429-4dd4-4501-af90-08f07af0e679",
   "metadata": {},
   "outputs": [],
   "source": [
    "# Преобразуем списки в кортежи\n",
    "tracks['albums'] = tracks['albums'].apply(tuple)\n",
    "tracks['artists'] = tracks['artists'].apply(tuple)\n",
    "tracks['genres'] = tracks['genres'].apply(tuple)"
   ]
  },
  {
   "cell_type": "code",
   "execution_count": 7,
   "id": "bdb14c4e-0785-467b-88c6-e89ab0a7a49e",
   "metadata": {},
   "outputs": [
    {
     "name": "stdout",
     "output_type": "stream",
     "text": [
      "<class 'pandas.core.frame.DataFrame'>\n",
      "RangeIndex: 1812471 entries, 0 to 1812470\n",
      "Data columns (total 3 columns):\n",
      " #   Column  Dtype \n",
      "---  ------  ----- \n",
      " 0   id      int64 \n",
      " 1   type    object\n",
      " 2   name    object\n",
      "dtypes: int64(1), object(2)\n",
      "memory usage: 41.5+ MB\n"
     ]
    }
   ],
   "source": [
    "catalog_names.info()"
   ]
  },
  {
   "cell_type": "code",
   "execution_count": 8,
   "id": "3a027fbc-4a85-43ae-a115-bcc7ff6cdc8a",
   "metadata": {},
   "outputs": [
    {
     "data": {
      "text/html": [
       "<div>\n",
       "<style scoped>\n",
       "    .dataframe tbody tr th:only-of-type {\n",
       "        vertical-align: middle;\n",
       "    }\n",
       "\n",
       "    .dataframe tbody tr th {\n",
       "        vertical-align: top;\n",
       "    }\n",
       "\n",
       "    .dataframe thead th {\n",
       "        text-align: right;\n",
       "    }\n",
       "</style>\n",
       "<table border=\"1\" class=\"dataframe\">\n",
       "  <thead>\n",
       "    <tr style=\"text-align: right;\">\n",
       "      <th></th>\n",
       "      <th>id</th>\n",
       "      <th>type</th>\n",
       "      <th>name</th>\n",
       "    </tr>\n",
       "  </thead>\n",
       "  <tbody>\n",
       "    <tr>\n",
       "      <th>0</th>\n",
       "      <td>3</td>\n",
       "      <td>album</td>\n",
       "      <td>Taller Children</td>\n",
       "    </tr>\n",
       "    <tr>\n",
       "      <th>1</th>\n",
       "      <td>12</td>\n",
       "      <td>album</td>\n",
       "      <td>Wild Young Hearts</td>\n",
       "    </tr>\n",
       "    <tr>\n",
       "      <th>2</th>\n",
       "      <td>13</td>\n",
       "      <td>album</td>\n",
       "      <td>Lonesome Crow</td>\n",
       "    </tr>\n",
       "    <tr>\n",
       "      <th>3</th>\n",
       "      <td>17</td>\n",
       "      <td>album</td>\n",
       "      <td>Graffiti Soul</td>\n",
       "    </tr>\n",
       "    <tr>\n",
       "      <th>4</th>\n",
       "      <td>26</td>\n",
       "      <td>album</td>\n",
       "      <td>Blues Six Pack</td>\n",
       "    </tr>\n",
       "  </tbody>\n",
       "</table>\n",
       "</div>"
      ],
      "text/plain": [
       "   id   type               name\n",
       "0   3  album    Taller Children\n",
       "1  12  album  Wild Young Hearts\n",
       "2  13  album      Lonesome Crow\n",
       "3  17  album      Graffiti Soul\n",
       "4  26  album     Blues Six Pack"
      ]
     },
     "execution_count": 8,
     "metadata": {},
     "output_type": "execute_result"
    }
   ],
   "source": [
    "catalog_names.head()"
   ]
  },
  {
   "cell_type": "code",
   "execution_count": 9,
   "id": "122cd296-5c76-445e-83f1-55b278130767",
   "metadata": {},
   "outputs": [
    {
     "data": {
      "text/plain": [
       "type\n",
       "track     1000000\n",
       "album      658724\n",
       "artist     153581\n",
       "genre         166\n",
       "Name: count, dtype: int64"
      ]
     },
     "execution_count": 9,
     "metadata": {},
     "output_type": "execute_result"
    }
   ],
   "source": [
    "catalog_names.type.value_counts()"
   ]
  },
  {
   "cell_type": "code",
   "execution_count": 10,
   "id": "f6eeea57-71a0-476e-9b0f-8b1037c271c0",
   "metadata": {},
   "outputs": [],
   "source": [
    "# catalog_names.rename(columns={'id': 'track_id'}, inplace=True)"
   ]
  },
  {
   "cell_type": "code",
   "execution_count": 11,
   "id": "a892bbf7-987b-4df1-bd69-a580678f20bb",
   "metadata": {},
   "outputs": [
    {
     "name": "stdout",
     "output_type": "stream",
     "text": [
      "<class 'pandas.core.frame.DataFrame'>\n",
      "Index: 222629898 entries, 0 to 291\n",
      "Data columns (total 4 columns):\n",
      " #   Column      Dtype         \n",
      "---  ------      -----         \n",
      " 0   user_id     int32         \n",
      " 1   track_id    int32         \n",
      " 2   track_seq   int16         \n",
      " 3   started_at  datetime64[ns]\n",
      "dtypes: datetime64[ns](1), int16(1), int32(2)\n",
      "memory usage: 5.4 GB\n"
     ]
    }
   ],
   "source": [
    "interactions.info()"
   ]
  },
  {
   "cell_type": "markdown",
   "id": "94320324-ba2d-4fd9-9f9a-34fed7be440b",
   "metadata": {},
   "source": [
    "Приведем все идентификаторы к строковому типу данных"
   ]
  },
  {
   "cell_type": "code",
   "execution_count": 12,
   "id": "ad37784b-5948-4e25-a6c6-e532470285f1",
   "metadata": {},
   "outputs": [],
   "source": [
    "# # Приведение типов данных\n",
    "# tracks['track_id'] = tracks['track_id'].astype(str)\n",
    "# catalog_names['track_id'] = catalog_names['track_id'].astype(str)\n",
    "# interactions['track_id'] = interactions['track_id'].astype(str)\n",
    "# interactions['user_id'] = interactions['user_id'].astype(str)"
   ]
  },
  {
   "cell_type": "markdown",
   "id": "f91c412f-efc4-4282-8002-2206d383c85e",
   "metadata": {},
   "source": [
    "Тут падало ядро каждый раз, поэтому отказался от этой идеи."
   ]
  },
  {
   "cell_type": "code",
   "execution_count": 13,
   "id": "b76f92c5-8169-43a2-842b-a740085c03e0",
   "metadata": {},
   "outputs": [
    {
     "name": "stdout",
     "output_type": "stream",
     "text": [
      "Дубликаты в tracks: 0\n",
      "Дубликаты в catalog_names: 0\n"
     ]
    }
   ],
   "source": [
    "# Проверка дубликатов\n",
    "print(f\"Дубликаты в tracks: {tracks.duplicated().sum()}\")\n",
    "print(f\"Дубликаты в catalog_names: {catalog_names.duplicated().sum()}\")\n",
    "# print(f\"Дубликаты в interactions: {interactions.duplicated().sum()}\")"
   ]
  },
  {
   "cell_type": "markdown",
   "id": "0163d000-c806-4944-939d-f8370703dfc6",
   "metadata": {},
   "source": [
    "Тут interactions тоже проверялось через раз"
   ]
  },
  {
   "cell_type": "code",
   "execution_count": 14,
   "id": "e5705ded-6018-434e-846e-0842afbb28c6",
   "metadata": {},
   "outputs": [
    {
     "name": "stdout",
     "output_type": "stream",
     "text": [
      "Пустые в tracks: track_id    0\n",
      "albums      0\n",
      "artists     0\n",
      "genres      0\n",
      "dtype: int64\n",
      "Пустые в catalog_names: id      0\n",
      "type    0\n",
      "name    0\n",
      "dtype: int64\n"
     ]
    }
   ],
   "source": [
    "# Проверка пустых\n",
    "print(f\"Пустые в tracks: {tracks.isna().sum()}\")\n",
    "print(f\"Пустые в catalog_names: {catalog_names.isna().sum()}\")"
   ]
  },
  {
   "cell_type": "markdown",
   "id": "318b573a-9e2d-4808-95db-60cfb8bbdb73",
   "metadata": {
    "editable": true,
    "slideshow": {
     "slide_type": ""
    },
    "tags": []
   },
   "source": [
    "# Выводы"
   ]
  },
  {
   "cell_type": "markdown",
   "id": "caa96e12-36a8-4401-8f11-98627a49ae9d",
   "metadata": {},
   "source": [
    "Приведём выводы по первому знакомству с данными:\n",
    "- есть ли с данными явные проблемы,\n",
    "- какие корректирующие действия (в целом) были предприняты."
   ]
  },
  {
   "cell_type": "markdown",
   "id": "6bee6505-3399-4c55-8a25-8d5bf64b370b",
   "metadata": {},
   "source": [
    "С данными проблем нет. Все типы правильные, пропуски отсутствуют"
   ]
  },
  {
   "cell_type": "markdown",
   "id": "7bc3296b-eba6-4333-a78d-b9304aa87e3d",
   "metadata": {},
   "source": [
    "# === ЭТАП 2 ==="
   ]
  },
  {
   "cell_type": "markdown",
   "id": "68e73960-fd38-4e15-8db0-9a25c35dfd25",
   "metadata": {},
   "source": [
    "# EDA"
   ]
  },
  {
   "cell_type": "markdown",
   "id": "a30e823e-8e0f-4a76-a02e-8d1ba8bf0f8a",
   "metadata": {},
   "source": [
    "Распределение количества прослушанных треков."
   ]
  },
  {
   "cell_type": "code",
   "execution_count": 20,
   "id": "223f44ce-041c-46a6-99ab-c516d1234501",
   "metadata": {},
   "outputs": [
    {
     "data": {
      "image/png": "[encoded data removed]",
      "text/plain": [
       "<Figure size 1000x600 with 1 Axes>"
      ]
     },
     "metadata": {},
     "output_type": "display_data"
    }
   ],
   "source": [
    "# Группировка по track_id для подсчета количества прослушиваний\n",
    "track_listen_counts = interactions.groupby('track_id').size().reset_index(name='listen_count')\n",
    "\n",
    "# Визуализация распределения\n",
    "plt.figure(figsize=(10, 6))\n",
    "sns.histplot(track_listen_counts['listen_count'], bins=50, log_scale=True)\n",
    "plt.title('Распределение количества прослушиваний треков')\n",
    "plt.xlabel('Количество прослушиваний')\n",
    "plt.ylabel('Частота')\n",
    "plt.show()"
   ]
  },
  {
   "cell_type": "markdown",
   "id": "d765519a-18dd-4d30-9e29-cc2d84cacd79",
   "metadata": {},
   "source": [
    "Наиболее популярные треки"
   ]
  },
  {
   "cell_type": "code",
   "execution_count": 21,
   "id": "aecaf630-fde0-4860-b84a-42c933a9606e",
   "metadata": {},
   "outputs": [
    {
     "data": {
      "text/html": [
       "<div>\n",
       "<style scoped>\n",
       "    .dataframe tbody tr th:only-of-type {\n",
       "        vertical-align: middle;\n",
       "    }\n",
       "\n",
       "    .dataframe tbody tr th {\n",
       "        vertical-align: top;\n",
       "    }\n",
       "\n",
       "    .dataframe thead th {\n",
       "        text-align: right;\n",
       "    }\n",
       "</style>\n",
       "<table border=\"1\" class=\"dataframe\">\n",
       "  <thead>\n",
       "    <tr style=\"text-align: right;\">\n",
       "      <th></th>\n",
       "      <th>track_id</th>\n",
       "      <th>name</th>\n",
       "      <th>listen_count</th>\n",
       "    </tr>\n",
       "  </thead>\n",
       "  <tbody>\n",
       "    <tr>\n",
       "      <th>9098</th>\n",
       "      <td>53404</td>\n",
       "      <td>Smells Like Teen Spirit</td>\n",
       "      <td>111062</td>\n",
       "    </tr>\n",
       "    <tr>\n",
       "      <th>483876</th>\n",
       "      <td>33311009</td>\n",
       "      <td>Believer</td>\n",
       "      <td>106921</td>\n",
       "    </tr>\n",
       "    <tr>\n",
       "      <th>26665</th>\n",
       "      <td>178529</td>\n",
       "      <td>Numb</td>\n",
       "      <td>101924</td>\n",
       "    </tr>\n",
       "    <tr>\n",
       "      <th>512157</th>\n",
       "      <td>35505245</td>\n",
       "      <td>I Got Love</td>\n",
       "      <td>99490</td>\n",
       "    </tr>\n",
       "    <tr>\n",
       "      <th>829320</th>\n",
       "      <td>65851540</td>\n",
       "      <td>Юность</td>\n",
       "      <td>86670</td>\n",
       "    </tr>\n",
       "    <tr>\n",
       "      <th>368072</th>\n",
       "      <td>24692821</td>\n",
       "      <td>Way Down We Go</td>\n",
       "      <td>86246</td>\n",
       "    </tr>\n",
       "    <tr>\n",
       "      <th>475289</th>\n",
       "      <td>32947997</td>\n",
       "      <td>Shape of You</td>\n",
       "      <td>85886</td>\n",
       "    </tr>\n",
       "    <tr>\n",
       "      <th>696106</th>\n",
       "      <td>51241318</td>\n",
       "      <td>In The End</td>\n",
       "      <td>85244</td>\n",
       "    </tr>\n",
       "    <tr>\n",
       "      <th>90461</th>\n",
       "      <td>795836</td>\n",
       "      <td>Shape Of My Heart</td>\n",
       "      <td>85042</td>\n",
       "    </tr>\n",
       "    <tr>\n",
       "      <th>647237</th>\n",
       "      <td>45499814</td>\n",
       "      <td>Life</td>\n",
       "      <td>84748</td>\n",
       "    </tr>\n",
       "  </tbody>\n",
       "</table>\n",
       "</div>"
      ],
      "text/plain": [
       "        track_id                     name  listen_count\n",
       "9098       53404  Smells Like Teen Spirit        111062\n",
       "483876  33311009                 Believer        106921\n",
       "26665     178529                     Numb        101924\n",
       "512157  35505245               I Got Love         99490\n",
       "829320  65851540                   Юность         86670\n",
       "368072  24692821           Way Down We Go         86246\n",
       "475289  32947997             Shape of You         85886\n",
       "696106  51241318               In The End         85244\n",
       "90461     795836        Shape Of My Heart         85042\n",
       "647237  45499814                     Life         84748"
      ]
     },
     "execution_count": 21,
     "metadata": {},
     "output_type": "execute_result"
    }
   ],
   "source": [
    "# Объединяем данные о треках и количестве прослушиваний\n",
    "tracks_with_listen_counts = tracks.merge(\n",
    "    track_listen_counts,\n",
    "    left_on='track_id',\n",
    "    right_on='track_id',\n",
    "    how='left'\n",
    ")\n",
    "\n",
    "# Добавляем названия треков из catalog_names\n",
    "tracks_with_names = tracks_with_listen_counts.merge(\n",
    "    catalog_names[catalog_names['type'] == 'track'],\n",
    "    left_on='track_id',\n",
    "    right_on='id',\n",
    "    how='left'\n",
    ")\n",
    "\n",
    "# Топ-10 самых популярных треков\n",
    "top_tracks = tracks_with_names.sort_values(by='listen_count', ascending=False).head(10)\n",
    "top_tracks[['track_id', 'name', 'listen_count']]"
   ]
  },
  {
   "cell_type": "code",
   "execution_count": 22,
   "id": "916b1b61-4123-4931-96ab-5c2a3f51bd45",
   "metadata": {},
   "outputs": [
    {
     "data": {
      "image/png": "[encoded data removed]",
      "text/plain": [
       "<Figure size 1000x600 with 1 Axes>"
      ]
     },
     "metadata": {},
     "output_type": "display_data"
    }
   ],
   "source": [
    "plt.figure(figsize=(10, 6))\n",
    "sns.barplot(data=top_tracks, x='listen_count', y='name', orient='h')\n",
    "plt.title('Топ-10 самых популярных треков')\n",
    "plt.xlabel('Количество прослушиваний')\n",
    "plt.ylabel('Название трека')\n",
    "plt.show()"
   ]
  },
  {
   "cell_type": "markdown",
   "id": "b1c32a5a-d3be-4f96-8dd9-f7860951020c",
   "metadata": {},
   "source": [
    "Наиболее популярные жанры"
   ]
  },
  {
   "cell_type": "code",
   "execution_count": 23,
   "id": "1bc50491-9235-4d3c-a6c2-297f7c05a959",
   "metadata": {},
   "outputs": [
    {
     "data": {
      "text/html": [
       "<div>\n",
       "<style scoped>\n",
       "    .dataframe tbody tr th:only-of-type {\n",
       "        vertical-align: middle;\n",
       "    }\n",
       "\n",
       "    .dataframe tbody tr th {\n",
       "        vertical-align: top;\n",
       "    }\n",
       "\n",
       "    .dataframe thead th {\n",
       "        text-align: right;\n",
       "    }\n",
       "</style>\n",
       "<table border=\"1\" class=\"dataframe\">\n",
       "  <thead>\n",
       "    <tr style=\"text-align: right;\">\n",
       "      <th></th>\n",
       "      <th>genres</th>\n",
       "      <th>name</th>\n",
       "      <th>listen_count</th>\n",
       "    </tr>\n",
       "  </thead>\n",
       "  <tbody>\n",
       "    <tr>\n",
       "      <th>10</th>\n",
       "      <td>11</td>\n",
       "      <td>pop</td>\n",
       "      <td>55578312</td>\n",
       "    </tr>\n",
       "    <tr>\n",
       "      <th>70</th>\n",
       "      <td>75</td>\n",
       "      <td>rap</td>\n",
       "      <td>37799821</td>\n",
       "    </tr>\n",
       "    <tr>\n",
       "      <th>95</th>\n",
       "      <td>102</td>\n",
       "      <td>allrock</td>\n",
       "      <td>31092013</td>\n",
       "    </tr>\n",
       "    <tr>\n",
       "      <th>19</th>\n",
       "      <td>20</td>\n",
       "      <td>ruspop</td>\n",
       "      <td>26626241</td>\n",
       "    </tr>\n",
       "    <tr>\n",
       "      <th>2</th>\n",
       "      <td>3</td>\n",
       "      <td>rusrap</td>\n",
       "      <td>25303695</td>\n",
       "    </tr>\n",
       "    <tr>\n",
       "      <th>63</th>\n",
       "      <td>68</td>\n",
       "      <td>electronics</td>\n",
       "      <td>20120981</td>\n",
       "    </tr>\n",
       "    <tr>\n",
       "      <th>15</th>\n",
       "      <td>16</td>\n",
       "      <td>dance</td>\n",
       "      <td>16291557</td>\n",
       "    </tr>\n",
       "    <tr>\n",
       "      <th>1</th>\n",
       "      <td>2</td>\n",
       "      <td>rusrock</td>\n",
       "      <td>13166147</td>\n",
       "    </tr>\n",
       "    <tr>\n",
       "      <th>13</th>\n",
       "      <td>14</td>\n",
       "      <td>rock</td>\n",
       "      <td>12772644</td>\n",
       "    </tr>\n",
       "    <tr>\n",
       "      <th>42</th>\n",
       "      <td>47</td>\n",
       "      <td>metal</td>\n",
       "      <td>12437375</td>\n",
       "    </tr>\n",
       "  </tbody>\n",
       "</table>\n",
       "</div>"
      ],
      "text/plain": [
       "    genres         name  listen_count\n",
       "10      11          pop      55578312\n",
       "70      75          rap      37799821\n",
       "95     102      allrock      31092013\n",
       "19      20       ruspop      26626241\n",
       "2        3       rusrap      25303695\n",
       "63      68  electronics      20120981\n",
       "15      16        dance      16291557\n",
       "1        2      rusrock      13166147\n",
       "13      14         rock      12772644\n",
       "42      47        metal      12437375"
      ]
     },
     "execution_count": 23,
     "metadata": {},
     "output_type": "execute_result"
    }
   ],
   "source": [
    "# Разворачиваем список жанров для каждого трека\n",
    "tracks_exploded = tracks.explode('genres')\n",
    "\n",
    "# Объединяем с данными о прослушиваниях\n",
    "tracks_with_genres = tracks_exploded.merge(\n",
    "    track_listen_counts,\n",
    "    left_on='track_id',\n",
    "    right_on='track_id',\n",
    "    how='left'\n",
    ")\n",
    "\n",
    "# Группируем по жанрам и суммируем количество прослушиваний\n",
    "genre_popularity = tracks_with_genres.groupby('genres')['listen_count'].sum().reset_index()\n",
    "\n",
    "# Добавляем названия жанров из catalog_names\n",
    "genre_popularity_with_names = genre_popularity.merge(\n",
    "    catalog_names[catalog_names['type'] == 'genre'],\n",
    "    left_on='genres',\n",
    "    right_on='id',\n",
    "    how='left'\n",
    ")\n",
    "\n",
    "# Топ-10 самых популярных жанров\n",
    "top_genres = genre_popularity_with_names.sort_values(by='listen_count', ascending=False).head(10)\n",
    "top_genres[['genres', 'name', 'listen_count']]"
   ]
  },
  {
   "cell_type": "code",
   "execution_count": 24,
   "id": "d5dc6332-579d-428e-a32e-ad951c1c8030",
   "metadata": {},
   "outputs": [
    {
     "data": {
      "image/png": "[encoded data removed]",
      "text/plain": [
       "<Figure size 1000x600 with 1 Axes>"
      ]
     },
     "metadata": {},
     "output_type": "display_data"
    }
   ],
   "source": [
    "plt.figure(figsize=(10, 6))\n",
    "sns.barplot(data=top_genres, x='listen_count', y='name')\n",
    "plt.title('Топ-10 самых популярных жанров')\n",
    "plt.xlabel('Количество прослушиваний')\n",
    "plt.ylabel('Название жанра')\n",
    "# Форматирование оси X\n",
    "plt.ticklabel_format(style='plain', axis='x')  # Отключаем научную нотацию\n",
    "plt.show()"
   ]
  },
  {
   "cell_type": "markdown",
   "id": "15254e66-e80e-473b-ba24-abebea5ccac7",
   "metadata": {},
   "source": [
    "Треки, которые никто не прослушал"
   ]
  },
  {
   "cell_type": "code",
   "execution_count": 25,
   "id": "50bc50c6-2d83-4c7e-97fa-3e7627978438",
   "metadata": {},
   "outputs": [
    {
     "name": "stdout",
     "output_type": "stream",
     "text": [
      "Количество непрослушанных треков: 0\n"
     ]
    }
   ],
   "source": [
    "# Треки, которые не были прослушаны\n",
    "unlistened_tracks = tracks[~tracks['track_id'].isin(interactions['track_id'])]\n",
    "\n",
    "# Добавляем названия треков из catalog_names\n",
    "unlistened_tracks_with_names = unlistened_tracks.merge(\n",
    "    catalog_names[catalog_names['type'] == 'track'],\n",
    "    left_on='track_id',\n",
    "    right_on='id',\n",
    "    how='left'\n",
    ")\n",
    "\n",
    "print(f\"Количество непрослушанных треков: {len(unlistened_tracks_with_names)}\")"
   ]
  },
  {
   "cell_type": "markdown",
   "id": "0d850a07-ef1e-462f-891a-1cf89f2e24ef",
   "metadata": {},
   "source": [
    "# Преобразование данных"
   ]
  },
  {
   "cell_type": "markdown",
   "id": "fabcf8d2-1192-4df5-b20b-fbb84689f57a",
   "metadata": {},
   "source": [
    "Преобразуем данные в формат, более пригодный для дальнейшего использования в расчётах рекомендаций."
   ]
  },
  {
   "cell_type": "code",
   "execution_count": 26,
   "id": "a425556a-9382-45ca-a04e-f1981a522126",
   "metadata": {
    "editable": true,
    "slideshow": {
     "slide_type": ""
    },
    "tags": []
   },
   "outputs": [],
   "source": [
    "# Создаем словари для быстрого поиска названий\n",
    "def create_name_dict(catalog, id_type):\n",
    "    \"\"\"\n",
    "    Создает словарь для быстрого поиска названий по идентификаторам.\n",
    "    \n",
    "    :param catalog: DataFrame с названиями (catalog_names).\n",
    "    :param id_type: Тип идентификатора ('album', 'artist', 'genre').\n",
    "    :return: Словарь {id: name}.\n",
    "    \"\"\"\n",
    "    return catalog[catalog['type'] == id_type].set_index('id')['name'].to_dict()\n",
    "\n",
    "# Создаем словари для альбомов, исполнителей и жанров\n",
    "album_name_dict = create_name_dict(catalog_names, 'album')\n",
    "artist_name_dict = create_name_dict(catalog_names, 'artist')\n",
    "genre_name_dict = create_name_dict(catalog_names, 'genre')"
   ]
  },
  {
   "cell_type": "code",
   "execution_count": 27,
   "id": "0d30ffb9-ecb4-44d2-ab99-65323480a11d",
   "metadata": {},
   "outputs": [],
   "source": [
    "# Добавляем названия треков\n",
    "track_name_dict = create_name_dict(catalog_names, 'track')\n",
    "tracks['track_name'] = tracks['track_id'].map(track_name_dict)"
   ]
  },
  {
   "cell_type": "code",
   "execution_count": 28,
   "id": "1e3d7268-f92f-4ed4-8d93-6efd57f76927",
   "metadata": {},
   "outputs": [],
   "source": [
    "# Добавляем названия альбомов\n",
    "tracks['albums'] = tracks['albums'].apply(\n",
    "    lambda x: list([album_name_dict.get(album_id, 'Unknown') for album_id in x])\n",
    ")"
   ]
  },
  {
   "cell_type": "code",
   "execution_count": 29,
   "id": "e32967d6-75e0-43bd-99a0-dafa9a06c5e5",
   "metadata": {},
   "outputs": [],
   "source": [
    "# Добавляем названия исполнителей\n",
    "tracks['artists'] = tracks['artists'].apply(\n",
    "    lambda x: [artist_name_dict.get(artist_id, 'Unknown') for artist_id in x]\n",
    ")"
   ]
  },
  {
   "cell_type": "code",
   "execution_count": 30,
   "id": "5425341e-6db5-484a-bfc4-5c5579c5be27",
   "metadata": {},
   "outputs": [],
   "source": [
    "# Добавляем названия жанров\n",
    "tracks['genres'] = tracks['genres'].apply(\n",
    "    lambda x: [genre_name_dict.get(genre_id, 'Unknown') for genre_id in x]\n",
    ")"
   ]
  },
  {
   "cell_type": "code",
   "execution_count": 31,
   "id": "3dbad021-4b14-4ba4-bb72-b4146646cf63",
   "metadata": {},
   "outputs": [
    {
     "data": {
      "text/html": [
       "<div>\n",
       "<style scoped>\n",
       "    .dataframe tbody tr th:only-of-type {\n",
       "        vertical-align: middle;\n",
       "    }\n",
       "\n",
       "    .dataframe tbody tr th {\n",
       "        vertical-align: top;\n",
       "    }\n",
       "\n",
       "    .dataframe thead th {\n",
       "        text-align: right;\n",
       "    }\n",
       "</style>\n",
       "<table border=\"1\" class=\"dataframe\">\n",
       "  <thead>\n",
       "    <tr style=\"text-align: right;\">\n",
       "      <th></th>\n",
       "      <th>track_id</th>\n",
       "      <th>albums</th>\n",
       "      <th>artists</th>\n",
       "      <th>genres</th>\n",
       "      <th>track_name</th>\n",
       "    </tr>\n",
       "  </thead>\n",
       "  <tbody>\n",
       "    <tr>\n",
       "      <th>0</th>\n",
       "      <td>26</td>\n",
       "      <td>[Taller Children, Taller Children]</td>\n",
       "      <td>[Elizabeth &amp; the Catapult]</td>\n",
       "      <td>[pop, folk]</td>\n",
       "      <td>Complimentary Me</td>\n",
       "    </tr>\n",
       "    <tr>\n",
       "      <th>1</th>\n",
       "      <td>38</td>\n",
       "      <td>[Taller Children, Taller Children]</td>\n",
       "      <td>[Elizabeth &amp; the Catapult]</td>\n",
       "      <td>[pop, folk]</td>\n",
       "      <td>Momma's Boy</td>\n",
       "    </tr>\n",
       "    <tr>\n",
       "      <th>2</th>\n",
       "      <td>135</td>\n",
       "      <td>[Wild Young Hearts, Wild Young Hearts, Wild Yo...</td>\n",
       "      <td>[Noisettes]</td>\n",
       "      <td>[pop]</td>\n",
       "      <td>Atticus</td>\n",
       "    </tr>\n",
       "    <tr>\n",
       "      <th>3</th>\n",
       "      <td>136</td>\n",
       "      <td>[Wild Young Hearts, Wild Young Hearts, Wild Yo...</td>\n",
       "      <td>[Noisettes]</td>\n",
       "      <td>[pop]</td>\n",
       "      <td>24 Hours</td>\n",
       "    </tr>\n",
       "    <tr>\n",
       "      <th>4</th>\n",
       "      <td>138</td>\n",
       "      <td>[Wild Young Hearts, Wild Young Hearts, Don't U...</td>\n",
       "      <td>[Noisettes]</td>\n",
       "      <td>[pop]</td>\n",
       "      <td>Don't Upset The Rhythm (Go Baby Go)</td>\n",
       "    </tr>\n",
       "  </tbody>\n",
       "</table>\n",
       "</div>"
      ],
      "text/plain": [
       "   track_id                                             albums  \\\n",
       "0        26                 [Taller Children, Taller Children]   \n",
       "1        38                 [Taller Children, Taller Children]   \n",
       "2       135  [Wild Young Hearts, Wild Young Hearts, Wild Yo...   \n",
       "3       136  [Wild Young Hearts, Wild Young Hearts, Wild Yo...   \n",
       "4       138  [Wild Young Hearts, Wild Young Hearts, Don't U...   \n",
       "\n",
       "                      artists       genres  \\\n",
       "0  [Elizabeth & the Catapult]  [pop, folk]   \n",
       "1  [Elizabeth & the Catapult]  [pop, folk]   \n",
       "2                 [Noisettes]        [pop]   \n",
       "3                 [Noisettes]        [pop]   \n",
       "4                 [Noisettes]        [pop]   \n",
       "\n",
       "                            track_name  \n",
       "0                     Complimentary Me  \n",
       "1                          Momma's Boy  \n",
       "2                              Atticus  \n",
       "3                             24 Hours  \n",
       "4  Don't Upset The Rhythm (Go Baby Go)  "
      ]
     },
     "execution_count": 31,
     "metadata": {},
     "output_type": "execute_result"
    }
   ],
   "source": [
    "tracks.head()"
   ]
  },
  {
   "cell_type": "code",
   "execution_count": 32,
   "id": "a14efb8e-9494-465b-b26c-e55730f6317d",
   "metadata": {},
   "outputs": [],
   "source": [
    "tracks.to_parquet('items.parquet')"
   ]
  },
  {
   "cell_type": "code",
   "execution_count": 33,
   "id": "54777f2f-0386-453b-aa6d-abb5b015656a",
   "metadata": {},
   "outputs": [],
   "source": [
    "interactions.to_parquet('events.parquet')"
   ]
  },
  {
   "cell_type": "code",
   "execution_count": 34,
   "id": "391ec814-604d-4bf7-9626-9d6771b5f84d",
   "metadata": {},
   "outputs": [],
   "source": [
    "del tracks\n",
    "del catalog_names\n",
    "del interactions"
   ]
  },
  {
   "cell_type": "markdown",
   "id": "4d1be653-eed8-4fa0-a9c5-3811b080d71d",
   "metadata": {},
   "source": [
    "# Сохранение данных"
   ]
  },
  {
   "cell_type": "markdown",
   "id": "36f1314a-3af3-4faf-a0b1-3045173d1500",
   "metadata": {},
   "source": [
    "Сохраним данные в двух файлах в персональном S3-бакете по пути `recsys/data/`:\n",
    "- `items.parquet` — все данные о музыкальных треках,\n",
    "- `events.parquet` — все данные о взаимодействиях."
   ]
  },
  {
   "cell_type": "markdown",
   "id": "0cb6e945-3382-4466-b0f3-5baba94cd735",
   "metadata": {},
   "source": [
    "Как только не пробовал загрузить всё в s3 через код, не получалось, поэтому сделал по документации yandexcloud и положил из коммандной строки:\n",
    "\n",
    "> aws --endpoint-url https://storage.yandexcloud.net s3 cp items.parquet s3://s3-student-mle-20240920-1460ff9140/recsys/data/items.parquet\n",
    " \n",
    "> aws --endpoint-url https://storage.yandexcloud.net s3 cp events.parquet s3://s3-student-mle-\n",
    "20240920-1460ff9140/recsys/data/events.parquet"
   ]
  },
  {
   "cell_type": "markdown",
   "id": "5c234e15-52a8-4f73-8e41-e9393f26bd24",
   "metadata": {},
   "source": [
    "Уважаемый ревьюер, если подскажешь как загружать файлы через код, то буду очень благодарен.\n",
    "\n",
    "Еще хотел бы узнать, вот я добавил в aws/config endpoint-url, но если явно не указывать флаг, то он все равно пытается подключиться к серверам amazon.\n",
    "\n",
    "Как это пофиксить?"
   ]
  },
  {
   "cell_type": "code",
   "execution_count": 3,
   "id": "a78000db-1214-4169-b2f5-a5763965649b",
   "metadata": {},
   "outputs": [],
   "source": [
    "# !pip install --upgrade boto3 pyarrow"
   ]
  },
  {
   "cell_type": "code",
   "execution_count": 79,
   "id": "67b766ec-28f1-45d3-8433-2de8b7f2a910",
   "metadata": {},
   "outputs": [],
   "source": [
    "# !pip install boto3==1.35.93"
   ]
  },
  {
   "cell_type": "code",
   "execution_count": 78,
   "id": "c827c4ba-49da-44d8-b86d-6c1a9047d69b",
   "metadata": {},
   "outputs": [],
   "source": [
    "# !pip install aiobotocore==2.15.2"
   ]
  },
  {
   "cell_type": "code",
   "execution_count": 74,
   "id": "25367e16-734c-4664-879e-71645b3ec08f",
   "metadata": {},
   "outputs": [],
   "source": [
    "items = pd.read_parquet('items.parquet')\n",
    "events = pd.read_parquet('events.parquet')"
   ]
  },
  {
   "cell_type": "code",
   "execution_count": 1,
   "id": "fc30b13f-4f66-49ac-b842-82ea152d4878",
   "metadata": {},
   "outputs": [],
   "source": [
    "# import s3fs\n",
    "# import pandas as pd\n",
    "\n",
    "# # Загрузка переменных окружения\n",
    "# load_dotenv()\n",
    "\n",
    "# fs = s3fs.S3FileSystem(\n",
    "#     key=os.getenv(\"AWS_ACCESS_KEY_ID\"),\n",
    "#     secret=os.getenv(\"AWS_SECRET_ACCESS_KEY\"),\n",
    "#     endpoint_url=os.getenv(\"AWS_ENDPOINT_URL\")\n",
    "# )\n",
    "\n",
    "# # Запись данных\n",
    "# with fs.open(f\"s3://{os.getenv('S3_BUCKET_NAME')}/recsys/data/items.parquet\", 'wb') as f:\n",
    "#     items.to_parquet(f, engine=\"pyarrow\")\n",
    "\n",
    "# with fs.open(f\"s3://{os.getenv('S3_BUCKET_NAME')}/recsys/data/events.parquet\", 'wb') as f:\n",
    "#     events.to_parquet(f, engine=\"pyarrow\")"
   ]
  },
  {
   "cell_type": "code",
   "execution_count": 2,
   "id": "9f77af17-7705-4fae-9aad-db579b39faad",
   "metadata": {},
   "outputs": [],
   "source": [
    "# import os\n",
    "# import boto3\n",
    "\n",
    "# load_dotenv()\n",
    "\n",
    "# S3_BUCKET = os.getenv(\"S3_BUCKET_NAME\")\n",
    "# STORAGE_OPTIONS={\n",
    "#     \"endpoint_url\": os.getenv(\"AWS_ENDPOINT_URL\"), \n",
    "#     \"key\": os.getenv(\"AWS_ACCESS_KEY_ID\"), \n",
    "#     \"secret\": os.getenv(\"AWS_SECRET_ACCESS_KEY\"),\n",
    "#     \"client_kwargs\":{\"region_name\": os.getenv(\"AWS_REGION\")},\n",
    "#     \"config_kwargs\": {\"signature_version\": \"s3v4\"}\n",
    "# }\n",
    "\n",
    "# items.to_parquet(\n",
    "#     f\"s3://{S3_BUCKET}/recsys/data/items.parquet\", \n",
    "#     engine=\"pyarrow\", storage_options=STORAGE_OPTIONS\n",
    "# )\n",
    "# events.to_parquet(\n",
    "#     f\"s3://{S3_BUCKET}/recsys/data/events.parquet\",\n",
    "#     engine=\"pyarrow\", storage_options=STORAGE_OPTIONS\n",
    "# )"
   ]
  },
  {
   "cell_type": "markdown",
   "id": "72ecbbed-c560-44d9-9c14-86c7dc76f399",
   "metadata": {},
   "source": [
    "# Очистка памяти"
   ]
  },
  {
   "cell_type": "markdown",
   "id": "b5358ede-ba6e-4c4f-bd73-5b9344f0ba79",
   "metadata": {},
   "source": [
    "Здесь, может понадобится очистка памяти для высвобождения ресурсов для выполнения кода ниже. \n",
    "\n",
    "Приведите соответствующие код, комментарии, например:\n",
    "- код для удаление более ненужных переменных,\n",
    "- комментарий, что следует перезапустить kernel, выполнить такие-то начальные секции и продолжить с этапа 3."
   ]
  },
  {
   "cell_type": "code",
   "execution_count": null,
   "id": "767fe920-e12e-4ad8-b04e-56e8091fac9f",
   "metadata": {},
   "outputs": [],
   "source": []
  },
  {
   "cell_type": "markdown",
   "id": "708503df-ee89-4cf3-8489-093dc478e2a8",
   "metadata": {},
   "source": [
    "# === ЭТАП 3 ==="
   ]
  },
  {
   "cell_type": "markdown",
   "id": "fd77de22-e10f-4b42-85c1-8fb6f805fe68",
   "metadata": {},
   "source": [
    "# Загрузка данных"
   ]
  },
  {
   "cell_type": "markdown",
   "id": "780a4241-1ecd-4a3e-bbb3-fc2f6ca94f68",
   "metadata": {},
   "source": [
    "Если необходимо, то загружаем items.parquet, events.parquet."
   ]
  },
  {
   "cell_type": "code",
   "execution_count": null,
   "id": "f19fc8a5-bd2c-40d7-864a-ee75aca6d512",
   "metadata": {},
   "outputs": [],
   "source": []
  },
  {
   "cell_type": "code",
   "execution_count": null,
   "id": "5db1e801-5845-4ce3-86f2-c2fa30f68cc5",
   "metadata": {},
   "outputs": [],
   "source": []
  },
  {
   "cell_type": "markdown",
   "id": "a694c023-6477-490b-939d-1cfa6f5f1b72",
   "metadata": {},
   "source": [
    "# Разбиение данных"
   ]
  },
  {
   "cell_type": "markdown",
   "id": "fbd5f6e0-54e7-4428-8678-eabce505d82c",
   "metadata": {},
   "source": [
    "Разбиваем данные на тренировочную, тестовую выборки."
   ]
  },
  {
   "cell_type": "code",
   "execution_count": null,
   "id": "00c2dfa5-d8a2-47d1-922e-6eefee2c62d1",
   "metadata": {},
   "outputs": [],
   "source": []
  },
  {
   "cell_type": "code",
   "execution_count": null,
   "id": "26fe3e3c-8c5f-4437-bf13-9191adef08bb",
   "metadata": {},
   "outputs": [],
   "source": []
  },
  {
   "cell_type": "markdown",
   "id": "9131c7e6-8852-4556-b510-51f7253cc299",
   "metadata": {},
   "source": [
    "# Топ популярных"
   ]
  },
  {
   "cell_type": "markdown",
   "id": "dd70d43a-88cc-4719-b291-feaed7136f30",
   "metadata": {},
   "source": [
    "Рассчитаем рекомендации как топ популярных."
   ]
  },
  {
   "cell_type": "code",
   "execution_count": null,
   "id": "ee45e200-b7d6-4f56-9077-aad431689b96",
   "metadata": {},
   "outputs": [],
   "source": []
  },
  {
   "cell_type": "code",
   "execution_count": null,
   "id": "7690c86f-7aa9-46ed-bba5-2c837626411e",
   "metadata": {},
   "outputs": [],
   "source": []
  },
  {
   "cell_type": "markdown",
   "id": "2ad231f2-6158-421a-b7fa-01d8bc3ed572",
   "metadata": {},
   "source": [
    "# Персональные"
   ]
  },
  {
   "cell_type": "markdown",
   "id": "86159460-cd9d-4b63-8248-604ea3c9aebf",
   "metadata": {},
   "source": [
    "Рассчитаем персональные рекомендации."
   ]
  },
  {
   "cell_type": "code",
   "execution_count": null,
   "id": "d2944822-569c-4f9b-82dc-70a7fa2d542e",
   "metadata": {},
   "outputs": [],
   "source": []
  },
  {
   "cell_type": "code",
   "execution_count": null,
   "id": "1e8cdb58-3a8c-45ad-8e5f-7f950314aa56",
   "metadata": {},
   "outputs": [],
   "source": []
  },
  {
   "cell_type": "markdown",
   "id": "5f09dc7e-7c91-4355-860a-b9cfb9f33f15",
   "metadata": {},
   "source": [
    "# Похожие"
   ]
  },
  {
   "cell_type": "markdown",
   "id": "1dfcb683-b440-40a8-9975-894156a53872",
   "metadata": {},
   "source": [
    "Рассчитаем похожие, они позже пригодятся для онлайн-рекомендаций."
   ]
  },
  {
   "cell_type": "code",
   "execution_count": null,
   "id": "a75d07ee-4b12-4ce5-aa85-e45cb7a7a4f0",
   "metadata": {},
   "outputs": [],
   "source": []
  },
  {
   "cell_type": "code",
   "execution_count": null,
   "id": "ce370904-4c49-4152-8706-416074ea9b9a",
   "metadata": {},
   "outputs": [],
   "source": []
  },
  {
   "cell_type": "markdown",
   "id": "0087a3e7-ca9f-42cd-944c-944222c1baef",
   "metadata": {},
   "source": [
    "# Построение признаков"
   ]
  },
  {
   "cell_type": "markdown",
   "id": "e82a32e1-b90b-4eaf-9439-fc8deab9f34b",
   "metadata": {},
   "source": [
    "Построим три признака, можно больше, для ранжирующей модели."
   ]
  },
  {
   "cell_type": "code",
   "execution_count": null,
   "id": "05b4ae84-406a-44a4-abec-4f80f93e3004",
   "metadata": {},
   "outputs": [],
   "source": []
  },
  {
   "cell_type": "code",
   "execution_count": null,
   "id": "00f84c35-f544-4c3d-ad53-9b1d2b684c75",
   "metadata": {},
   "outputs": [],
   "source": []
  },
  {
   "cell_type": "markdown",
   "id": "47bcf88d-b236-46f0-a6f3-38ddd64895fe",
   "metadata": {},
   "source": [
    "# Ранжирование рекомендаций"
   ]
  },
  {
   "cell_type": "markdown",
   "id": "e8cd8223-3418-4493-8c87-1f76286ebda0",
   "metadata": {},
   "source": [
    "Построим ранжирующую модель, чтобы сделать рекомендации более точными. Отранжируем рекомендации."
   ]
  },
  {
   "cell_type": "code",
   "execution_count": null,
   "id": "79f1dd92-32a9-463d-827e-8bb9ee5bbb54",
   "metadata": {},
   "outputs": [],
   "source": []
  },
  {
   "cell_type": "code",
   "execution_count": null,
   "id": "6dbe4db4-1ac5-44da-a13c-8e7f9768ab73",
   "metadata": {},
   "outputs": [],
   "source": []
  },
  {
   "cell_type": "markdown",
   "id": "b3c84071-45b5-4a15-a683-e0ab034a3128",
   "metadata": {},
   "source": [
    "# Оценка качества"
   ]
  },
  {
   "cell_type": "markdown",
   "id": "1b107fe4-554e-42b1-87d9-c435a52bb77a",
   "metadata": {},
   "source": [
    "Проверим оценку качества трёх типов рекомендаций: \n",
    "\n",
    "- топ популярных,\n",
    "- персональных, полученных при помощи ALS,\n",
    "- итоговых\n",
    "  \n",
    "по четырем метрикам: recall, precision, coverage, novelty."
   ]
  },
  {
   "cell_type": "code",
   "execution_count": null,
   "id": "94d6f388-aecb-443e-8647-14014e932d4d",
   "metadata": {},
   "outputs": [],
   "source": []
  },
  {
   "cell_type": "code",
   "execution_count": null,
   "id": "26df411f-14c1-4848-8797-f37afe449cc6",
   "metadata": {},
   "outputs": [],
   "source": []
  },
  {
   "cell_type": "markdown",
   "id": "f1c8d38c-32b0-46a4-96f0-cd01dac708bc",
   "metadata": {},
   "source": [
    "# === Выводы, метрики ==="
   ]
  },
  {
   "cell_type": "markdown",
   "id": "f7d7d5d8-7d1e-4fdf-a6cd-83e5ce92c684",
   "metadata": {},
   "source": [
    "Основные выводы при работе над расчётом рекомендаций, рассчитанные метрики."
   ]
  },
  {
   "cell_type": "code",
   "execution_count": null,
   "id": "6403097d-db36-46d9-8952-613c9bd51b05",
   "metadata": {},
   "outputs": [],
   "source": []
  },
  {
   "cell_type": "code",
   "execution_count": null,
   "id": "986cfdd5-6f2e-4de6-8666-85804c87d04b",
   "metadata": {},
   "outputs": [],
   "source": []
  }
 ],
 "metadata": {
  "kernelspec": {
   "display_name": "Python 3 (ipykernel)",
   "language": "python",
   "name": "python3"
  },
  "language_info": {
   "codemirror_mode": {
    "name": "ipython",
    "version": 3
   },
   "file_extension": ".py",
   "mimetype": "text/x-python",
   "name": "python",
   "nbconvert_exporter": "python",
   "pygments_lexer": "ipython3",
   "version": "3.10.12"
  }
 },
 "nbformat": 4,
 "nbformat_minor": 5
}
