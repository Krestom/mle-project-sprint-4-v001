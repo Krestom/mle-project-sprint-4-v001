{
 "cells": [
  {
   "cell_type": "markdown",
   "id": "f4095ae4-7294-4b28-853e-88d235002c97",
   "metadata": {},
   "source": [
    "# Инициализация"
   ]
  },
  {
   "cell_type": "markdown",
   "id": "2f2318d2-9df8-4911-915e-15b725c44f8a",
   "metadata": {},
   "source": [
    "Загружаем библиотеки необходимые для выполнения кода ноутбука."
   ]
  },
  {
   "cell_type": "code",
   "execution_count": 1,
   "id": "662d04e7-1b0b-4e4a-9ddf-4526d7fef119",
   "metadata": {},
   "outputs": [],
   "source": [
    "import pandas as pd\n",
    "import numpy as np"
   ]
  },
  {
   "cell_type": "markdown",
   "id": "bf80fbc5-b660-4fac-8fbb-a5cae77313b3",
   "metadata": {},
   "source": [
    "# === ЭТАП 1 ==="
   ]
  },
  {
   "cell_type": "markdown",
   "id": "5263a8b3-fe99-4204-8a2e-105182792c11",
   "metadata": {},
   "source": [
    "# Загрузка первичных данных"
   ]
  },
  {
   "cell_type": "markdown",
   "id": "1b54a6a5-1656-4e3c-99d1-49dc39451d33",
   "metadata": {},
   "source": [
    "Загружаем первичные данные из файлов:\n",
    "- tracks.parquet\n",
    "- catalog_names.parquet\n",
    "- interactions.parquet"
   ]
  },
  {
   "cell_type": "code",
   "execution_count": 2,
   "id": "5d4b8961-3f35-4e58-9d6b-3e2dbd2c4224",
   "metadata": {
    "scrolled": true
   },
   "outputs": [
    {
     "name": "stdout",
     "output_type": "stream",
     "text": [
      "--2025-03-06 09:07:02--  https://storage.yandexcloud.net/mle-data/ym/tracks.parquet\n",
      "Resolving storage.yandexcloud.net (storage.yandexcloud.net)... 213.180.193.243, 2a02:6b8::1d9\n",
      "Connecting to storage.yandexcloud.net (storage.yandexcloud.net)|213.180.193.243|:443... connected.\n",
      "200 OKequest sent, awaiting response... \n",
      "Length: 18938128 (18M) [application/x-www-form-urlencoded]\n",
      "Saving to: ‘tracks.parquet’\n",
      "\n",
      "tracks.parquet      100%[===================>]  18.06M  97.3MB/s    in 0.2s    \n",
      "\n",
      "2025-03-06 09:07:03 (97.3 MB/s) - ‘tracks.parquet’ saved [18938128/18938128]\n",
      "\n",
      "--2025-03-06 09:07:03--  https://storage.yandexcloud.net/mle-data/ym/catalog_names.parquet\n",
      "Resolving storage.yandexcloud.net (storage.yandexcloud.net)... 213.180.193.243, 2a02:6b8::1d9\n",
      "Connecting to storage.yandexcloud.net (storage.yandexcloud.net)|213.180.193.243|:443... connected.\n",
      "200 OKequest sent, awaiting response... \n",
      "Length: 36146495 (34M) [application/x-www-form-urlencoded]\n",
      "Saving to: ‘catalog_names.parquet’\n",
      "\n",
      "catalog_names.parqu 100%[===================>]  34.47M   127MB/s    in 0.3s    \n",
      "\n",
      "2025-03-06 09:07:03 (127 MB/s) - ‘catalog_names.parquet’ saved [36146495/36146495]\n",
      "\n",
      "--2025-03-06 09:07:03--  https://storage.yandexcloud.net/mle-data/ym/interactions.parquet\n",
      "Resolving storage.yandexcloud.net (storage.yandexcloud.net)... 213.180.193.243, 2a02:6b8::1d9\n",
      "Connecting to storage.yandexcloud.net (storage.yandexcloud.net)|213.180.193.243|:443... connected.\n",
      "200 OKequest sent, awaiting response... \n",
      "Length: 1208078471 (1.1G) [application/x-www-form-urlencoded]\n",
      "Saving to: ‘interactions.parquet’\n",
      "\n",
      "interactions.parque 100%[===================>]   1.12G  81.0MB/s    in 14s     \n",
      "\n",
      "2025-03-06 09:07:18 (82.1 MB/s) - ‘interactions.parquet’ saved [1208078471/1208078471]\n",
      "\n"
     ]
    }
   ],
   "source": [
    "!wget https://storage.yandexcloud.net/mle-data/ym/tracks.parquet\n",
    "\n",
    "!wget https://storage.yandexcloud.net/mle-data/ym/catalog_names.parquet\n",
    "\n",
    "!wget https://storage.yandexcloud.net/mle-data/ym/interactions.parquet"
   ]
  },
  {
   "cell_type": "code",
   "execution_count": 3,
   "id": "70f7bdfe-175c-45c1-a2e9-d99f0f33be2e",
   "metadata": {},
   "outputs": [],
   "source": [
    "tracks = pd.read_parquet('tracks.parquet')\n",
    "catalog_names = pd.read_parquet('catalog_names.parquet')\n",
    "interactions = pd.read_parquet('interactions.parquet')"
   ]
  },
  {
   "cell_type": "markdown",
   "id": "e8f2a1f7-a05f-4f39-af90-5f4018aa6f9d",
   "metadata": {},
   "source": [
    "# Обзор данных"
   ]
  },
  {
   "cell_type": "markdown",
   "id": "46a85307-896c-4fac-9fcf-f0dffa90889e",
   "metadata": {},
   "source": [
    "Проверяем данные, есть ли с ними явные проблемы."
   ]
  },
  {
   "cell_type": "code",
   "execution_count": 4,
   "id": "c9f8f17e-9b56-4f5a-a463-f694a993effb",
   "metadata": {},
   "outputs": [
    {
     "name": "stdout",
     "output_type": "stream",
     "text": [
      "<class 'pandas.core.frame.DataFrame'>\n",
      "RangeIndex: 1000000 entries, 0 to 999999\n",
      "Data columns (total 4 columns):\n",
      " #   Column    Non-Null Count    Dtype \n",
      "---  ------    --------------    ----- \n",
      " 0   track_id  1000000 non-null  int64 \n",
      " 1   albums    1000000 non-null  object\n",
      " 2   artists   1000000 non-null  object\n",
      " 3   genres    1000000 non-null  object\n",
      "dtypes: int64(1), object(3)\n",
      "memory usage: 30.5+ MB\n"
     ]
    }
   ],
   "source": [
    "tracks.info()"
   ]
  },
  {
   "cell_type": "code",
   "execution_count": 5,
   "id": "22518c63-f8af-4e40-85c4-df48ecd419cf",
   "metadata": {},
   "outputs": [
    {
     "data": {
      "text/html": [
       "<div>\n",
       "<style scoped>\n",
       "    .dataframe tbody tr th:only-of-type {\n",
       "        vertical-align: middle;\n",
       "    }\n",
       "\n",
       "    .dataframe tbody tr th {\n",
       "        vertical-align: top;\n",
       "    }\n",
       "\n",
       "    .dataframe thead th {\n",
       "        text-align: right;\n",
       "    }\n",
       "</style>\n",
       "<table border=\"1\" class=\"dataframe\">\n",
       "  <thead>\n",
       "    <tr style=\"text-align: right;\">\n",
       "      <th></th>\n",
       "      <th>track_id</th>\n",
       "      <th>albums</th>\n",
       "      <th>artists</th>\n",
       "      <th>genres</th>\n",
       "    </tr>\n",
       "  </thead>\n",
       "  <tbody>\n",
       "    <tr>\n",
       "      <th>201851</th>\n",
       "      <td>7520872</td>\n",
       "      <td>[791537]</td>\n",
       "      <td>[1723]</td>\n",
       "      <td>[246]</td>\n",
       "    </tr>\n",
       "    <tr>\n",
       "      <th>481045</th>\n",
       "      <td>33222383</td>\n",
       "      <td>[4058803]</td>\n",
       "      <td>[419285]</td>\n",
       "      <td>[12]</td>\n",
       "    </tr>\n",
       "    <tr>\n",
       "      <th>103480</th>\n",
       "      <td>1306886</td>\n",
       "      <td>[137990]</td>\n",
       "      <td>[2934, 10462, 442790]</td>\n",
       "      <td>[44, 75]</td>\n",
       "    </tr>\n",
       "    <tr>\n",
       "      <th>84009</th>\n",
       "      <td>734236</td>\n",
       "      <td>[81747]</td>\n",
       "      <td>[218323]</td>\n",
       "      <td>[12]</td>\n",
       "    </tr>\n",
       "    <tr>\n",
       "      <th>227386</th>\n",
       "      <td>10805228</td>\n",
       "      <td>[1173292, 5914601]</td>\n",
       "      <td>[9596]</td>\n",
       "      <td>[21]</td>\n",
       "    </tr>\n",
       "    <tr>\n",
       "      <th>245558</th>\n",
       "      <td>14715523</td>\n",
       "      <td>[1612380]</td>\n",
       "      <td>[2453527]</td>\n",
       "      <td>[14, 102]</td>\n",
       "    </tr>\n",
       "    <tr>\n",
       "      <th>236318</th>\n",
       "      <td>13897823</td>\n",
       "      <td>[1510967]</td>\n",
       "      <td>[334594]</td>\n",
       "      <td>[47, 154]</td>\n",
       "    </tr>\n",
       "    <tr>\n",
       "      <th>801426</th>\n",
       "      <td>62787700</td>\n",
       "      <td>[9931911]</td>\n",
       "      <td>[4597662, 6478898]</td>\n",
       "      <td>[11, 20]</td>\n",
       "    </tr>\n",
       "    <tr>\n",
       "      <th>359788</th>\n",
       "      <td>24122821</td>\n",
       "      <td>[2802844]</td>\n",
       "      <td>[25999, 1092271, 2976565]</td>\n",
       "      <td>[15, 25]</td>\n",
       "    </tr>\n",
       "    <tr>\n",
       "      <th>568629</th>\n",
       "      <td>39123430</td>\n",
       "      <td>[5036324]</td>\n",
       "      <td>[5627286, 3753718]</td>\n",
       "      <td>[11, 20]</td>\n",
       "    </tr>\n",
       "  </tbody>\n",
       "</table>\n",
       "</div>"
      ],
      "text/plain": [
       "        track_id              albums                    artists     genres\n",
       "201851   7520872            [791537]                     [1723]      [246]\n",
       "481045  33222383           [4058803]                   [419285]       [12]\n",
       "103480   1306886            [137990]      [2934, 10462, 442790]   [44, 75]\n",
       "84009     734236             [81747]                   [218323]       [12]\n",
       "227386  10805228  [1173292, 5914601]                     [9596]       [21]\n",
       "245558  14715523           [1612380]                  [2453527]  [14, 102]\n",
       "236318  13897823           [1510967]                   [334594]  [47, 154]\n",
       "801426  62787700           [9931911]         [4597662, 6478898]   [11, 20]\n",
       "359788  24122821           [2802844]  [25999, 1092271, 2976565]   [15, 25]\n",
       "568629  39123430           [5036324]         [5627286, 3753718]   [11, 20]"
      ]
     },
     "execution_count": 5,
     "metadata": {},
     "output_type": "execute_result"
    }
   ],
   "source": [
    "tracks.sample(10)"
   ]
  },
  {
   "cell_type": "code",
   "execution_count": 6,
   "id": "bdb14c4e-0785-467b-88c6-e89ab0a7a49e",
   "metadata": {},
   "outputs": [
    {
     "name": "stdout",
     "output_type": "stream",
     "text": [
      "<class 'pandas.core.frame.DataFrame'>\n",
      "RangeIndex: 1812471 entries, 0 to 1812470\n",
      "Data columns (total 3 columns):\n",
      " #   Column  Dtype \n",
      "---  ------  ----- \n",
      " 0   id      int64 \n",
      " 1   type    object\n",
      " 2   name    object\n",
      "dtypes: int64(1), object(2)\n",
      "memory usage: 41.5+ MB\n"
     ]
    }
   ],
   "source": [
    "catalog_names.info()"
   ]
  },
  {
   "cell_type": "code",
   "execution_count": 7,
   "id": "6920eeeb-c058-48f5-94c3-86c230e2d803",
   "metadata": {},
   "outputs": [
    {
     "data": {
      "text/html": [
       "<div>\n",
       "<style scoped>\n",
       "    .dataframe tbody tr th:only-of-type {\n",
       "        vertical-align: middle;\n",
       "    }\n",
       "\n",
       "    .dataframe tbody tr th {\n",
       "        vertical-align: top;\n",
       "    }\n",
       "\n",
       "    .dataframe thead th {\n",
       "        text-align: right;\n",
       "    }\n",
       "</style>\n",
       "<table border=\"1\" class=\"dataframe\">\n",
       "  <thead>\n",
       "    <tr style=\"text-align: right;\">\n",
       "      <th></th>\n",
       "      <th>id</th>\n",
       "      <th>type</th>\n",
       "      <th>name</th>\n",
       "    </tr>\n",
       "  </thead>\n",
       "  <tbody>\n",
       "    <tr>\n",
       "      <th>1144599</th>\n",
       "      <td>21621835</td>\n",
       "      <td>track</td>\n",
       "      <td>Счастье</td>\n",
       "    </tr>\n",
       "    <tr>\n",
       "      <th>806355</th>\n",
       "      <td>11108347</td>\n",
       "      <td>artist</td>\n",
       "      <td>A’Studio</td>\n",
       "    </tr>\n",
       "    <tr>\n",
       "      <th>300515</th>\n",
       "      <td>4906540</td>\n",
       "      <td>album</td>\n",
       "      <td>Progressive Stories, Vol. 13</td>\n",
       "    </tr>\n",
       "    <tr>\n",
       "      <th>425350</th>\n",
       "      <td>8290603</td>\n",
       "      <td>album</td>\n",
       "      <td>Reboot</td>\n",
       "    </tr>\n",
       "    <tr>\n",
       "      <th>892493</th>\n",
       "      <td>700131</td>\n",
       "      <td>track</td>\n",
       "      <td>Мы с мастером по велоспорту Галею...</td>\n",
       "    </tr>\n",
       "    <tr>\n",
       "      <th>1036309</th>\n",
       "      <td>10459674</td>\n",
       "      <td>track</td>\n",
       "      <td>Scarred</td>\n",
       "    </tr>\n",
       "    <tr>\n",
       "      <th>1408127</th>\n",
       "      <td>41335449</td>\n",
       "      <td>track</td>\n",
       "      <td>Always There</td>\n",
       "    </tr>\n",
       "    <tr>\n",
       "      <th>1225455</th>\n",
       "      <td>28345010</td>\n",
       "      <td>track</td>\n",
       "      <td>This Boy</td>\n",
       "    </tr>\n",
       "    <tr>\n",
       "      <th>743482</th>\n",
       "      <td>3879922</td>\n",
       "      <td>artist</td>\n",
       "      <td>Shel Bee</td>\n",
       "    </tr>\n",
       "    <tr>\n",
       "      <th>799152</th>\n",
       "      <td>9509302</td>\n",
       "      <td>artist</td>\n",
       "      <td>Alexander Ghindlin</td>\n",
       "    </tr>\n",
       "  </tbody>\n",
       "</table>\n",
       "</div>"
      ],
      "text/plain": [
       "               id    type                                  name\n",
       "1144599  21621835   track                               Счастье\n",
       "806355   11108347  artist                              A’Studio\n",
       "300515    4906540   album          Progressive Stories, Vol. 13\n",
       "425350    8290603   album                                Reboot\n",
       "892493     700131   track  Мы с мастером по велоспорту Галею...\n",
       "1036309  10459674   track                               Scarred\n",
       "1408127  41335449   track                          Always There\n",
       "1225455  28345010   track                              This Boy\n",
       "743482    3879922  artist                              Shel Bee\n",
       "799152    9509302  artist                    Alexander Ghindlin"
      ]
     },
     "execution_count": 7,
     "metadata": {},
     "output_type": "execute_result"
    }
   ],
   "source": [
    "catalog_names.sample(10)"
   ]
  },
  {
   "cell_type": "code",
   "execution_count": 8,
   "id": "a892bbf7-987b-4df1-bd69-a580678f20bb",
   "metadata": {},
   "outputs": [
    {
     "name": "stdout",
     "output_type": "stream",
     "text": [
      "<class 'pandas.core.frame.DataFrame'>\n",
      "Index: 222629898 entries, 0 to 291\n",
      "Data columns (total 4 columns):\n",
      " #   Column      Dtype         \n",
      "---  ------      -----         \n",
      " 0   user_id     int32         \n",
      " 1   track_id    int32         \n",
      " 2   track_seq   int16         \n",
      " 3   started_at  datetime64[ns]\n",
      "dtypes: datetime64[ns](1), int16(1), int32(2)\n",
      "memory usage: 5.4 GB\n"
     ]
    }
   ],
   "source": [
    "interactions.info()"
   ]
  },
  {
   "cell_type": "code",
   "execution_count": 9,
   "id": "efd2e2eb-3bec-4ce1-87ac-232bab8bc0d0",
   "metadata": {},
   "outputs": [
    {
     "data": {
      "text/html": [
       "<div>\n",
       "<style scoped>\n",
       "    .dataframe tbody tr th:only-of-type {\n",
       "        vertical-align: middle;\n",
       "    }\n",
       "\n",
       "    .dataframe tbody tr th {\n",
       "        vertical-align: top;\n",
       "    }\n",
       "\n",
       "    .dataframe thead th {\n",
       "        text-align: right;\n",
       "    }\n",
       "</style>\n",
       "<table border=\"1\" class=\"dataframe\">\n",
       "  <thead>\n",
       "    <tr style=\"text-align: right;\">\n",
       "      <th></th>\n",
       "      <th>user_id</th>\n",
       "      <th>track_id</th>\n",
       "      <th>track_seq</th>\n",
       "      <th>started_at</th>\n",
       "    </tr>\n",
       "  </thead>\n",
       "  <tbody>\n",
       "    <tr>\n",
       "      <th>98</th>\n",
       "      <td>989459</td>\n",
       "      <td>50669165</td>\n",
       "      <td>99</td>\n",
       "      <td>2022-08-08</td>\n",
       "    </tr>\n",
       "    <tr>\n",
       "      <th>946</th>\n",
       "      <td>418292</td>\n",
       "      <td>23457719</td>\n",
       "      <td>947</td>\n",
       "      <td>2022-11-21</td>\n",
       "    </tr>\n",
       "    <tr>\n",
       "      <th>293</th>\n",
       "      <td>999472</td>\n",
       "      <td>39996669</td>\n",
       "      <td>294</td>\n",
       "      <td>2022-10-05</td>\n",
       "    </tr>\n",
       "    <tr>\n",
       "      <th>2689</th>\n",
       "      <td>1007486</td>\n",
       "      <td>50573107</td>\n",
       "      <td>2690</td>\n",
       "      <td>2022-09-03</td>\n",
       "    </tr>\n",
       "    <tr>\n",
       "      <th>50</th>\n",
       "      <td>644733</td>\n",
       "      <td>54699438</td>\n",
       "      <td>51</td>\n",
       "      <td>2022-12-06</td>\n",
       "    </tr>\n",
       "    <tr>\n",
       "      <th>740</th>\n",
       "      <td>202767</td>\n",
       "      <td>57482806</td>\n",
       "      <td>741</td>\n",
       "      <td>2022-11-07</td>\n",
       "    </tr>\n",
       "    <tr>\n",
       "      <th>865</th>\n",
       "      <td>418074</td>\n",
       "      <td>40991742</td>\n",
       "      <td>866</td>\n",
       "      <td>2022-09-27</td>\n",
       "    </tr>\n",
       "    <tr>\n",
       "      <th>573</th>\n",
       "      <td>650558</td>\n",
       "      <td>47166554</td>\n",
       "      <td>574</td>\n",
       "      <td>2022-08-25</td>\n",
       "    </tr>\n",
       "    <tr>\n",
       "      <th>98</th>\n",
       "      <td>912301</td>\n",
       "      <td>35950454</td>\n",
       "      <td>99</td>\n",
       "      <td>2022-09-10</td>\n",
       "    </tr>\n",
       "    <tr>\n",
       "      <th>106</th>\n",
       "      <td>597667</td>\n",
       "      <td>70408028</td>\n",
       "      <td>107</td>\n",
       "      <td>2022-10-26</td>\n",
       "    </tr>\n",
       "  </tbody>\n",
       "</table>\n",
       "</div>"
      ],
      "text/plain": [
       "      user_id  track_id  track_seq started_at\n",
       "98     989459  50669165         99 2022-08-08\n",
       "946    418292  23457719        947 2022-11-21\n",
       "293    999472  39996669        294 2022-10-05\n",
       "2689  1007486  50573107       2690 2022-09-03\n",
       "50     644733  54699438         51 2022-12-06\n",
       "740    202767  57482806        741 2022-11-07\n",
       "865    418074  40991742        866 2022-09-27\n",
       "573    650558  47166554        574 2022-08-25\n",
       "98     912301  35950454         99 2022-09-10\n",
       "106    597667  70408028        107 2022-10-26"
      ]
     },
     "execution_count": 9,
     "metadata": {},
     "output_type": "execute_result"
    }
   ],
   "source": [
    "interactions.sample(10)"
   ]
  },
  {
   "cell_type": "markdown",
   "id": "318b573a-9e2d-4808-95db-60cfb8bbdb73",
   "metadata": {
    "editable": true,
    "slideshow": {
     "slide_type": ""
    },
    "tags": []
   },
   "source": [
    "# Выводы"
   ]
  },
  {
   "cell_type": "markdown",
   "id": "caa96e12-36a8-4401-8f11-98627a49ae9d",
   "metadata": {},
   "source": [
    "Приведём выводы по первому знакомству с данными:\n",
    "- есть ли с данными явные проблемы,\n",
    "- какие корректирующие действия (в целом) были предприняты."
   ]
  },
  {
   "cell_type": "code",
   "execution_count": null,
   "id": "f58cd010-c2fa-475f-b7e9-767965cd4f55",
   "metadata": {},
   "outputs": [],
   "source": []
  },
  {
   "cell_type": "code",
   "execution_count": null,
   "id": "9eb65c5c-3c2a-412a-ab7e-30ec9da54fea",
   "metadata": {},
   "outputs": [],
   "source": []
  },
  {
   "cell_type": "markdown",
   "id": "7bc3296b-eba6-4333-a78d-b9304aa87e3d",
   "metadata": {},
   "source": [
    "# === ЭТАП 2 ==="
   ]
  },
  {
   "cell_type": "markdown",
   "id": "68e73960-fd38-4e15-8db0-9a25c35dfd25",
   "metadata": {},
   "source": [
    "# EDA"
   ]
  },
  {
   "cell_type": "markdown",
   "id": "a30e823e-8e0f-4a76-a02e-8d1ba8bf0f8a",
   "metadata": {},
   "source": [
    "Распределение количества прослушанных треков."
   ]
  },
  {
   "cell_type": "code",
   "execution_count": null,
   "id": "9bf5eaba-35f7-4da7-be59-9ab4a34b2423",
   "metadata": {},
   "outputs": [],
   "source": []
  },
  {
   "cell_type": "markdown",
   "id": "d765519a-18dd-4d30-9e29-cc2d84cacd79",
   "metadata": {},
   "source": [
    "Наиболее популярные треки"
   ]
  },
  {
   "cell_type": "code",
   "execution_count": null,
   "id": "aecaf630-fde0-4860-b84a-42c933a9606e",
   "metadata": {},
   "outputs": [],
   "source": []
  },
  {
   "cell_type": "markdown",
   "id": "b1c32a5a-d3be-4f96-8dd9-f7860951020c",
   "metadata": {},
   "source": [
    "Наиболее популярные жанры"
   ]
  },
  {
   "cell_type": "code",
   "execution_count": null,
   "id": "1bc50491-9235-4d3c-a6c2-297f7c05a959",
   "metadata": {},
   "outputs": [],
   "source": []
  },
  {
   "cell_type": "markdown",
   "id": "15254e66-e80e-473b-ba24-abebea5ccac7",
   "metadata": {},
   "source": [
    "Треки, которые никто не прослушал"
   ]
  },
  {
   "cell_type": "code",
   "execution_count": null,
   "id": "50bc50c6-2d83-4c7e-97fa-3e7627978438",
   "metadata": {},
   "outputs": [],
   "source": []
  },
  {
   "cell_type": "markdown",
   "id": "0d850a07-ef1e-462f-891a-1cf89f2e24ef",
   "metadata": {},
   "source": [
    "# Преобразование данных"
   ]
  },
  {
   "cell_type": "markdown",
   "id": "fabcf8d2-1192-4df5-b20b-fbb84689f57a",
   "metadata": {},
   "source": [
    "Преобразуем данные в формат, более пригодный для дальнейшего использования в расчётах рекомендаций."
   ]
  },
  {
   "cell_type": "code",
   "execution_count": null,
   "id": "a425556a-9382-45ca-a04e-f1981a522126",
   "metadata": {},
   "outputs": [],
   "source": []
  },
  {
   "cell_type": "markdown",
   "id": "4d1be653-eed8-4fa0-a9c5-3811b080d71d",
   "metadata": {},
   "source": [
    "# Сохранение данных"
   ]
  },
  {
   "cell_type": "markdown",
   "id": "36f1314a-3af3-4faf-a0b1-3045173d1500",
   "metadata": {},
   "source": [
    "Сохраним данные в двух файлах в персональном S3-бакете по пути `recsys/data/`:\n",
    "- `items.parquet` — все данные о музыкальных треках,\n",
    "- `events.parquet` — все данные о взаимодействиях."
   ]
  },
  {
   "cell_type": "code",
   "execution_count": null,
   "id": "9f77af17-7705-4fae-9aad-db579b39faad",
   "metadata": {},
   "outputs": [],
   "source": []
  },
  {
   "cell_type": "markdown",
   "id": "72ecbbed-c560-44d9-9c14-86c7dc76f399",
   "metadata": {},
   "source": [
    "# Очистка памяти"
   ]
  },
  {
   "cell_type": "markdown",
   "id": "b5358ede-ba6e-4c4f-bd73-5b9344f0ba79",
   "metadata": {},
   "source": [
    "Здесь, может понадобится очистка памяти для высвобождения ресурсов для выполнения кода ниже. \n",
    "\n",
    "Приведите соответствующие код, комментарии, например:\n",
    "- код для удаление более ненужных переменных,\n",
    "- комментарий, что следует перезапустить kernel, выполнить такие-то начальные секции и продолжить с этапа 3."
   ]
  },
  {
   "cell_type": "code",
   "execution_count": null,
   "id": "767fe920-e12e-4ad8-b04e-56e8091fac9f",
   "metadata": {},
   "outputs": [],
   "source": []
  },
  {
   "cell_type": "markdown",
   "id": "708503df-ee89-4cf3-8489-093dc478e2a8",
   "metadata": {},
   "source": [
    "# === ЭТАП 3 ==="
   ]
  },
  {
   "cell_type": "markdown",
   "id": "fd77de22-e10f-4b42-85c1-8fb6f805fe68",
   "metadata": {},
   "source": [
    "# Загрузка данных"
   ]
  },
  {
   "cell_type": "markdown",
   "id": "780a4241-1ecd-4a3e-bbb3-fc2f6ca94f68",
   "metadata": {},
   "source": [
    "Если необходимо, то загружаем items.parquet, events.parquet."
   ]
  },
  {
   "cell_type": "code",
   "execution_count": null,
   "id": "f19fc8a5-bd2c-40d7-864a-ee75aca6d512",
   "metadata": {},
   "outputs": [],
   "source": []
  },
  {
   "cell_type": "code",
   "execution_count": null,
   "id": "5db1e801-5845-4ce3-86f2-c2fa30f68cc5",
   "metadata": {},
   "outputs": [],
   "source": []
  },
  {
   "cell_type": "markdown",
   "id": "a694c023-6477-490b-939d-1cfa6f5f1b72",
   "metadata": {},
   "source": [
    "# Разбиение данных"
   ]
  },
  {
   "cell_type": "markdown",
   "id": "fbd5f6e0-54e7-4428-8678-eabce505d82c",
   "metadata": {},
   "source": [
    "Разбиваем данные на тренировочную, тестовую выборки."
   ]
  },
  {
   "cell_type": "code",
   "execution_count": null,
   "id": "00c2dfa5-d8a2-47d1-922e-6eefee2c62d1",
   "metadata": {},
   "outputs": [],
   "source": []
  },
  {
   "cell_type": "code",
   "execution_count": null,
   "id": "26fe3e3c-8c5f-4437-bf13-9191adef08bb",
   "metadata": {},
   "outputs": [],
   "source": []
  },
  {
   "cell_type": "markdown",
   "id": "9131c7e6-8852-4556-b510-51f7253cc299",
   "metadata": {},
   "source": [
    "# Топ популярных"
   ]
  },
  {
   "cell_type": "markdown",
   "id": "dd70d43a-88cc-4719-b291-feaed7136f30",
   "metadata": {},
   "source": [
    "Рассчитаем рекомендации как топ популярных."
   ]
  },
  {
   "cell_type": "code",
   "execution_count": null,
   "id": "ee45e200-b7d6-4f56-9077-aad431689b96",
   "metadata": {},
   "outputs": [],
   "source": []
  },
  {
   "cell_type": "code",
   "execution_count": null,
   "id": "7690c86f-7aa9-46ed-bba5-2c837626411e",
   "metadata": {},
   "outputs": [],
   "source": []
  },
  {
   "cell_type": "markdown",
   "id": "2ad231f2-6158-421a-b7fa-01d8bc3ed572",
   "metadata": {},
   "source": [
    "# Персональные"
   ]
  },
  {
   "cell_type": "markdown",
   "id": "86159460-cd9d-4b63-8248-604ea3c9aebf",
   "metadata": {},
   "source": [
    "Рассчитаем персональные рекомендации."
   ]
  },
  {
   "cell_type": "code",
   "execution_count": null,
   "id": "d2944822-569c-4f9b-82dc-70a7fa2d542e",
   "metadata": {},
   "outputs": [],
   "source": []
  },
  {
   "cell_type": "code",
   "execution_count": null,
   "id": "1e8cdb58-3a8c-45ad-8e5f-7f950314aa56",
   "metadata": {},
   "outputs": [],
   "source": []
  },
  {
   "cell_type": "markdown",
   "id": "5f09dc7e-7c91-4355-860a-b9cfb9f33f15",
   "metadata": {},
   "source": [
    "# Похожие"
   ]
  },
  {
   "cell_type": "markdown",
   "id": "1dfcb683-b440-40a8-9975-894156a53872",
   "metadata": {},
   "source": [
    "Рассчитаем похожие, они позже пригодятся для онлайн-рекомендаций."
   ]
  },
  {
   "cell_type": "code",
   "execution_count": null,
   "id": "a75d07ee-4b12-4ce5-aa85-e45cb7a7a4f0",
   "metadata": {},
   "outputs": [],
   "source": []
  },
  {
   "cell_type": "code",
   "execution_count": null,
   "id": "ce370904-4c49-4152-8706-416074ea9b9a",
   "metadata": {},
   "outputs": [],
   "source": []
  },
  {
   "cell_type": "markdown",
   "id": "0087a3e7-ca9f-42cd-944c-944222c1baef",
   "metadata": {},
   "source": [
    "# Построение признаков"
   ]
  },
  {
   "cell_type": "markdown",
   "id": "e82a32e1-b90b-4eaf-9439-fc8deab9f34b",
   "metadata": {},
   "source": [
    "Построим три признака, можно больше, для ранжирующей модели."
   ]
  },
  {
   "cell_type": "code",
   "execution_count": null,
   "id": "05b4ae84-406a-44a4-abec-4f80f93e3004",
   "metadata": {},
   "outputs": [],
   "source": []
  },
  {
   "cell_type": "code",
   "execution_count": null,
   "id": "00f84c35-f544-4c3d-ad53-9b1d2b684c75",
   "metadata": {},
   "outputs": [],
   "source": []
  },
  {
   "cell_type": "markdown",
   "id": "47bcf88d-b236-46f0-a6f3-38ddd64895fe",
   "metadata": {},
   "source": [
    "# Ранжирование рекомендаций"
   ]
  },
  {
   "cell_type": "markdown",
   "id": "e8cd8223-3418-4493-8c87-1f76286ebda0",
   "metadata": {},
   "source": [
    "Построим ранжирующую модель, чтобы сделать рекомендации более точными. Отранжируем рекомендации."
   ]
  },
  {
   "cell_type": "code",
   "execution_count": null,
   "id": "79f1dd92-32a9-463d-827e-8bb9ee5bbb54",
   "metadata": {},
   "outputs": [],
   "source": []
  },
  {
   "cell_type": "code",
   "execution_count": null,
   "id": "6dbe4db4-1ac5-44da-a13c-8e7f9768ab73",
   "metadata": {},
   "outputs": [],
   "source": []
  },
  {
   "cell_type": "markdown",
   "id": "b3c84071-45b5-4a15-a683-e0ab034a3128",
   "metadata": {},
   "source": [
    "# Оценка качества"
   ]
  },
  {
   "cell_type": "markdown",
   "id": "1b107fe4-554e-42b1-87d9-c435a52bb77a",
   "metadata": {},
   "source": [
    "Проверим оценку качества трёх типов рекомендаций: \n",
    "\n",
    "- топ популярных,\n",
    "- персональных, полученных при помощи ALS,\n",
    "- итоговых\n",
    "  \n",
    "по четырем метрикам: recall, precision, coverage, novelty."
   ]
  },
  {
   "cell_type": "code",
   "execution_count": null,
   "id": "94d6f388-aecb-443e-8647-14014e932d4d",
   "metadata": {},
   "outputs": [],
   "source": []
  },
  {
   "cell_type": "code",
   "execution_count": null,
   "id": "26df411f-14c1-4848-8797-f37afe449cc6",
   "metadata": {},
   "outputs": [],
   "source": []
  },
  {
   "cell_type": "markdown",
   "id": "f1c8d38c-32b0-46a4-96f0-cd01dac708bc",
   "metadata": {},
   "source": [
    "# === Выводы, метрики ==="
   ]
  },
  {
   "cell_type": "markdown",
   "id": "f7d7d5d8-7d1e-4fdf-a6cd-83e5ce92c684",
   "metadata": {},
   "source": [
    "Основные выводы при работе над расчётом рекомендаций, рассчитанные метрики."
   ]
  },
  {
   "cell_type": "code",
   "execution_count": null,
   "id": "6403097d-db36-46d9-8952-613c9bd51b05",
   "metadata": {},
   "outputs": [],
   "source": []
  },
  {
   "cell_type": "code",
   "execution_count": null,
   "id": "986cfdd5-6f2e-4de6-8666-85804c87d04b",
   "metadata": {},
   "outputs": [],
   "source": []
  }
 ],
 "metadata": {
  "kernelspec": {
   "display_name": "Python 3 (ipykernel)",
   "language": "python",
   "name": "python3"
  },
  "language_info": {
   "codemirror_mode": {
    "name": "ipython",
    "version": 3
   },
   "file_extension": ".py",
   "mimetype": "text/x-python",
   "name": "python",
   "nbconvert_exporter": "python",
   "pygments_lexer": "ipython3",
   "version": "3.10.12"
  }
 },
 "nbformat": 4,
 "nbformat_minor": 5
}
